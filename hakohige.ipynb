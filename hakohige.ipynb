{
 "cells": [
  {
   "cell_type": "code",
   "execution_count": null,
   "metadata": {
    "collapsed": false
   },
   "outputs": [],
   "source": [
    "import seaborn as sns\n",
    "import pandas as pd\n",
    "from numpy.random import randint\n",
    "import matplotlib.pyplot as plt\n",
    "import numpy as np"
   ]
  },
  {
   "cell_type": "code",
   "execution_count": null,
   "metadata": {
    "collapsed": false
   },
   "outputs": [],
   "source": [
    "target = 'data.csv'\n",
    "df = pd.read_csv(target)\n",
    "display(df)"
   ]
  },
  {
   "cell_type": "code",
   "execution_count": null,
   "metadata": {
    "collapsed": false
   },
   "outputs": [],
   "source": [
    "min = 0.25\n",
    "max = 0.75"
   ]
  },
  {
   "cell_type": "code",
   "execution_count": null,
   "metadata": {},
   "outputs": [],
   "source": [
    "#%%\n",
    "\n",
    "x = []\n",
    "y = []\n",
    "z = []\n",
    "\n",
    "for C in df.columns:\n",
    "    if C == \"年月日時\":\n",
    "        z.append(C)\n",
    "        continue\n",
    "\n",
    "    else:\n",
    "        print(C)\n",
    "        A = df[C]\n",
    "\n",
    "        sns.boxplot(df=A)\n",
    "\n",
    "\n",
    "        Q1 = A.quantile(min)\n",
    "        Q3 = A.quantile(max)\n",
    "        IQR = Q3 - Q1\n",
    "        LOWER_Q = Q1 - 3 * IQR\n",
    "        HIGHER_Q = Q3 + 3 * IQR\n",
    "\n",
    "        df_box = A[(LOWER_Q <= A) & (A <= HIGHER_Q)].dropna()\n",
    "\n",
    "        x.append(df_box)\n",
    "        y.append(C)\n",
    "        z.append(C)\n",
    "\n",
    "df1 = pd.DataFrame(x).T\n",
    "df1.sort_index()\n",
    "df1 = pd.DataFrame(df1)\n",
    "\n",
    "df1.columns = y\n",
    "\n",
    "# df = pd.concat([df['time'], df_sagami, df_nishi, df_kamiwada], axis=1)\n",
    "\n",
    "df2 = pd.concat([df['年月日時'], df1], axis=1)\n",
    "df2.columns = z\n",
    "\n",
    "df2.to_csv('data.csv')"
   ]
  }
 ],
 "metadata": {
  "kernelspec": {
   "display_name": "tfmac",
   "language": "python",
   "name": "python3"
  },
  "language_info": {
   "codemirror_mode": {
    "name": "ipython",
    "version": 3
   },
   "file_extension": ".py",
   "mimetype": "text/x-python",
   "name": "python",
   "nbconvert_exporter": "python",
   "pygments_lexer": "ipython3",
   "version": "3.8.16"
  }
 },
 "nbformat": 4,
 "nbformat_minor": 0
}
