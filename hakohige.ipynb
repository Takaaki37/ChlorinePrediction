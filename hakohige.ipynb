{
 "cells": [
  {
   "cell_type": "code",
   "execution_count": null,
   "metadata": {
    "collapsed": false
   },
   "outputs": [],
   "source": [
    "\n",
    "# CSVファイルからデータフレームを読み込み、特定の列に対して箱ひげ図を描画し、四分位範囲を用いて外れ値を除去した新しいデータフレームを作成してCSVファイルに保存する\n",
    "\n",
    "import pandas as pd\n",
    "import seaborn as sns\n",
    "import matplotlib.pyplot as plt\n",
    "\n",
    "# CSVファイルを読み込む\n",
    "target = 'data.csv'\n",
    "df = pd.read_csv(target)\n",
    "\n",
    "# 変数の初期化\n",
    "min_quartile = 0.25  # 第1四分位数\n",
    "max_quartile = 0.75  # 第3四分位数\n",
    "columns_for_boxplot = []  # 箱ひげ図に使用する列のリスト\n",
    "filtered_data = []  # 外れ値を除去したデータを格納するリスト\n",
    "\n",
    "# '年月日時'列以外の各列に対して処理を行う\n",
    "for column in df.columns:\n",
    "    if column == \"年月日時\":\n",
    "        continue  # '年月日時'列は処理から除外\n",
    "\n",
    "    # 箱ひげ図の描画\n",
    "    sns.boxplot(data=df, x=column)\n",
    "    plt.show()  # 箱ひげ図を表示\n",
    "\n",
    "    # 四分位範囲と外れ値の計算\n",
    "    Q1 = df[column].quantile(min_quartile)\n",
    "    Q3 = df[column].quantile(max_quartile)\n",
    "    IQR = Q3 - Q1\n",
    "    LOWER_BOUND = Q1 - 3 * IQR\n",
    "    UPPER_BOUND = Q3 + 3 * IQR\n",
    "\n",
    "    # 外れ値を除去したデータの選択\n",
    "    filtered_series = df[column][(LOWER_BOUND <= df[column]) & (df[column] <= UPPER_BOUND)].dropna()\n",
    "    filtered_data.append(filtered_series)\n",
    "    columns_for_boxplot.append(column)\n",
    "\n",
    "# 外れ値を除去したデータで新しいデータフレームを作成\n",
    "df_filtered = pd.concat(filtered_data, axis=1)\n",
    "df_filtered.columns = columns_for_boxplot\n",
    "\n",
    "# '年月日時'列を新しいデータフレームに追加\n",
    "df_filtered.insert(0, '年月日時', df['年月日時'])\n",
    "\n",
    "# 新しいデータフレームをCSVファイルに保存\n",
    "df_filtered.to_csv('data_filtered.csv', index=False)\n"
   ]
  }
 ],
 "metadata": {
  "kernelspec": {
   "display_name": "tfmac",
   "language": "python",
   "name": "python3"
  },
  "language_info": {
   "codemirror_mode": {
    "name": "ipython",
    "version": 3
   },
   "file_extension": ".py",
   "mimetype": "text/x-python",
   "name": "python",
   "nbconvert_exporter": "python",
   "pygments_lexer": "ipython3",
   "version": "3.8.16"
  }
 },
 "nbformat": 4,
 "nbformat_minor": 0
}
