{
 "cells": [
  {
   "cell_type": "code",
   "execution_count": null,
   "metadata": {
    "pycharm": {
     "name": "#%%\n"
    }
   },
   "outputs": [],
   "source": [
    "from PIL import Image, ImageFilter, ImageOps\n",
    "import pyocr\n",
    "import pyocr.builders\n",
    "import pandas as pd\n",
    "import glob\n",
    "import cv2\n",
    "import os\n",
    "import numpy as np\n",
    "import matplotlib.pyplot as plt\n",
    "\n",
    "'''\n",
    "便利な関数を宣言\n",
    "'''\n",
    "def cv2pil(image):\n",
    "    new_image = image.copy()\n",
    "    if new_image.ndim == 2:  # モノクロ\n",
    "        pass\n",
    "    elif new_image.shape[2] == 3:  # カラー\n",
    "        new_image = cv2.cvtColor(new_image, cv2.COLOR_BGR2RGB)\n",
    "    elif new_image.shape[2] == 4:  # 透過\n",
    "        new_image = cv2.cvtColor(new_image, cv2.COLOR_BGRA2RGBA)\n",
    "    new_image = Image.fromarray(new_image)\n",
    "    return new_image\n",
    "def pil2cv(image):\n",
    "    new_image = np.array(image, dtype=np.uint8)\n",
    "    if new_image.ndim == 2:  # モノクロ\n",
    "        pass\n",
    "    elif new_image.shape[2] == 3:  # カラー\n",
    "        new_image = cv2.cvtColor(new_image, cv2.COLOR_RGB2BGR)\n",
    "    elif new_image.shape[2] == 4:  # 透過\n",
    "        new_image = cv2.cvtColor(new_image, cv2.COLOR_RGBA2BGRA)\n",
    "    return new_image\n",
    "\n",
    "def is_num(s):\n",
    "    try:\n",
    "        float(s)\n",
    "    except ValueError:\n",
    "        return False\n",
    "    else:\n",
    "        return True"
   ]
  },
  {
   "cell_type": "code",
   "execution_count": null,
   "metadata": {
    "pycharm": {
     "name": "#%%\n"
    }
   },
   "outputs": [],
   "source": [
    "# pyocr.tesseract.TESSERACT_CMD = r'C:\\\\Program Files\\\\Tesseract-OCR\\\\tesseract.exe'"
   ]
  },
  {
   "cell_type": "code",
   "execution_count": null,
   "metadata": {
    "pycharm": {
     "name": "#%%\n"
    }
   },
   "outputs": [],
   "source": [
    "cl_lst = []\n",
    "fileName = []\n",
    "engines = pyocr.get_available_tools()\n",
    "engine = engines[0]"
   ]
  },
  {
   "cell_type": "code",
   "execution_count": null,
   "metadata": {
    "pycharm": {
     "name": "#%%\n"
    }
   },
   "outputs": [],
   "source": [
    "engine"
   ]
  },
  {
   "cell_type": "code",
   "execution_count": null,
   "metadata": {
    "pycharm": {
     "name": "#%%\n"
    }
   },
   "outputs": [],
   "source": [
    "'''\n",
    "画像処理+文字認識\n",
    "'''\n",
    "cl_lst = []\n",
    "fileName = []\n",
    "engines = pyocr.get_available_tools()\n",
    "engine = engines[0]\n",
    "# files = glob.glob(\"./test/*\")\n",
    "files = glob.glob(\"./result_right/*\")\n",
    "files.sort()\n",
    "for file in files:\n",
    "    img = cv2.imread(file)\n",
    "    img_RGB = cv2.cvtColor(img, cv2.COLOR_BGR2RGB)\n",
    "    plt.gray()\n",
    "    im_gray = cv2.cvtColor(img, cv2.COLOR_BGR2GRAY)\n",
    "    img_tr = im_gray[290:326, 620:800]\n",
    "\n",
    "    # ret, im_otsu = cv2.threshold(img_tr, 140, 255, cv2.THRESH_OTSU)\n",
    "\n",
    "\n",
    "    #膨張処理\n",
    "    # kernel = cv2.getStructuringElement(cv2.MORPH_CROSS, (3, 3))\n",
    "    # dilate_img = cv2.dilate(pil2cv(im_otsu), kernel)\n",
    "    #色反転\n",
    "    im_rev = ImageOps.invert(cv2pil(im_gray))\n",
    "    plt.imshow(im_rev)\n",
    "    #文字認識\n",
    "    txt = engine.image_to_string(im_rev, lang=\"jpn\",\n",
    "                                 builder=pyocr.builders.TextBuilder(tesseract_layout=11))\n",
    "    at = txt.find(\"mg\")\n",
    "    print(\"==========\", file, \"==========\")\n",
    "    if at == -1:\n",
    "        print(\"mg is not found\")\n",
    "        cl_lst.append(-1)\n",
    "        fileName.append(file)\n",
    "        continue\n",
    "    cloline = txt[at-4:at]\n",
    "    if is_num(cloline) == False:\n",
    "        print(\"invalid number\")\n",
    "        print(cloline)\n",
    "        cl_lst.append(-2)\n",
    "        fileName.append(file)\n",
    "        continue\n",
    "    print(float(cloline))\n",
    "    cl_lst.append(float(cloline))\n",
    "    fileName.append(file)"
   ]
  },
  {
   "cell_type": "code",
   "execution_count": null,
   "metadata": {
    "pycharm": {
     "name": "#%%\n"
    }
   },
   "outputs": [],
   "source": [
    "df = pd.DataFrame(cl_lst)"
   ]
  },
  {
   "cell_type": "code",
   "execution_count": null,
   "metadata": {
    "pycharm": {
     "name": "#%%\n"
    }
   },
   "outputs": [],
   "source": [
    "df2 = pd.DataFrame(fileName)"
   ]
  },
  {
   "cell_type": "code",
   "execution_count": null,
   "metadata": {
    "pycharm": {
     "name": "#%%\n"
    }
   },
   "outputs": [],
   "source": [
    "df3 = pd.concat([df2, df], axis=1)"
   ]
  },
  {
   "cell_type": "code",
   "execution_count": null,
   "metadata": {
    "pycharm": {
     "name": "#%%\n"
    }
   },
   "outputs": [],
   "source": [
    "df3.to_excel('data.xlsx')"
   ]
  },
  {
   "cell_type": "code",
   "execution_count": null,
   "metadata": {
    "pycharm": {
     "name": "#%%\n"
    }
   },
   "outputs": [],
   "source": []
  }
 ],
 "metadata": {
  "kernelspec": {
   "display_name": "Python 3.6.8 ('tensor')",
   "language": "python",
   "name": "python3"
  },
  "language_info": {
   "codemirror_mode": {
    "name": "ipython",
    "version": 3
   },
   "file_extension": ".py",
   "mimetype": "text/x-python",
   "name": "python",
   "nbconvert_exporter": "python",
   "pygments_lexer": "ipython3",
   "version": "3.6.8"
  },
  "orig_nbformat": 4,
  "vscode": {
   "interpreter": {
    "hash": "ebaca5b136cdac81a9fd46d14dbd56f831d12ff78e4ab53cc402fd54ab9e1c9e"
   }
  }
 },
 "nbformat": 4,
 "nbformat_minor": 2
}
